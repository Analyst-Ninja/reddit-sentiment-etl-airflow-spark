{
 "cells": [
  {
   "cell_type": "code",
   "execution_count": null,
   "id": "ca102d95-e9e7-4be2-9c4e-123366af2510",
   "metadata": {},
   "outputs": [],
   "source": [
    "from pyspark.sql import SparkSession\n",
    "from pyspark.sql.functions import udf\n",
    "from vaderSentiment.vaderSentiment import SentimentIntensityAnalyzer\n",
    "from pyspark.sql.types import FloatType\n",
    "\n",
    "# Create a Spark session\n",
    "spark = SparkSession.builder.appName(\"SentimentAnalysis\").getOrCreate()\n",
    "\n",
    "# Example data (can be loaded from CSV as well)\n",
    "data = spark.createDataFrame([\n",
    "    (\"I love this product! It's amazing.\",),\n",
    "    (\"This is the worst experience I've ever had.\",),\n",
    "    (\"It's okay, not the best but not the worst.\",),\n",
    "    (\"Absolutely terrible! I hated every second.\",),\n",
    "    (\"I am so excited and happy about this event.\",),\n",
    "    (\"The food was decent, nothing special.\",)\n",
    "], [\"text\"])\n",
    "\n",
    "# Initialize VADER sentiment analyzer\n",
    "analyzer = SentimentIntensityAnalyzer()\n",
    "\n",
    "# Define a UDF to compute sentiment using VADER\n",
    "def analyze_sentiment(text):\n",
    "    sentiment_score = analyzer.polarity_scores(text)['compound']\n",
    "    return sentiment_score\n",
    "\n",
    "# Register UDF in Spark\n",
    "sentiment_udf = udf(analyze_sentiment, FloatType())\n",
    "\n",
    "# Apply UDF to DataFrame to calculate sentiment score\n",
    "data_with_sentiment = data.withColumn('sentiment_score', sentiment_udf(data['text']))\n",
    "\n",
    "# Show the DataFrame with sentiment scores\n",
    "data_with_sentiment.show(truncate=False)\n"
   ]
  }
 ],
 "metadata": {
  "kernelspec": {
   "display_name": "",
   "name": ""
  },
  "language_info": {
   "name": ""
  }
 },
 "nbformat": 4,
 "nbformat_minor": 5
}
